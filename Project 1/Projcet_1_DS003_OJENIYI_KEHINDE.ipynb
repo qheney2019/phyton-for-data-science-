{
 "cells": [
  {
   "cell_type": "code",
   "execution_count": 133,
   "id": "2fd192db",
   "metadata": {},
   "outputs": [],
   "source": [
    "#Import numpy and pandas"
   ]
  },
  {
   "cell_type": "code",
   "execution_count": 134,
   "id": "00abad1b",
   "metadata": {},
   "outputs": [],
   "source": [
    "import numpy as np \n",
    "import pandas as pd"
   ]
  },
  {
   "cell_type": "code",
   "execution_count": 135,
   "id": "118646ed",
   "metadata": {},
   "outputs": [],
   "source": [
    "#Create a dictionary (named student) of 10 students with name, relationship status, age and department columns"
   ]
  },
  {
   "cell_type": "code",
   "execution_count": 136,
   "id": "75fb124b",
   "metadata": {},
   "outputs": [],
   "source": [
    "student= { 'student': ['tunde', 'kola', 'bola', 'kunle', 'fatima', 'ishola', 'hibatullah', 'ghalia', 'sofia', 'akanmu'],\n",
    "      'relationship status': ['married', 'married','single', 'single', 'married', 'divorced', 'widow','single', 'marrried', 'widow'],\n",
    "       \n",
    "      'Age':['23','44','12','40', '45','54',' 24', '89', '150', '78'],\n",
    "    'department':['BCH', 'MCB','LAW', 'AGRIC', 'SAP+D', 'CI', 'EMINES', 'ESAFE', 'GTI', 'SCS']}\n",
    "    "
   ]
  },
  {
   "cell_type": "code",
   "execution_count": 137,
   "id": "badbb347",
   "metadata": {},
   "outputs": [
    {
     "data": {
      "text/plain": [
       "{'student': ['tunde',\n",
       "  'kola',\n",
       "  'bola',\n",
       "  'kunle',\n",
       "  'fatima',\n",
       "  'ishola',\n",
       "  'hibatullah',\n",
       "  'ghalia',\n",
       "  'sofia',\n",
       "  'akanmu'],\n",
       " 'relationship status': ['married',\n",
       "  'married',\n",
       "  'single',\n",
       "  'single',\n",
       "  'married',\n",
       "  'divorced',\n",
       "  'widow',\n",
       "  'single',\n",
       "  'marrried',\n",
       "  'widow'],\n",
       " 'Age': ['23', '44', '12', '40', '45', '54', ' 24', '89', '150', '78'],\n",
       " 'department': ['BCH',\n",
       "  'MCB',\n",
       "  'LAW',\n",
       "  'AGRIC',\n",
       "  'SAP+D',\n",
       "  'CI',\n",
       "  'EMINES',\n",
       "  'ESAFE',\n",
       "  'GTI',\n",
       "  'SCS']}"
      ]
     },
     "execution_count": 137,
     "metadata": {},
     "output_type": "execute_result"
    }
   ],
   "source": [
    "student"
   ]
  },
  {
   "cell_type": "code",
   "execution_count": 138,
   "id": "fbd94390",
   "metadata": {},
   "outputs": [],
   "source": [
    "#Add cgpa to the dictionary"
   ]
  },
  {
   "cell_type": "code",
   "execution_count": 139,
   "id": "bbadf263",
   "metadata": {},
   "outputs": [],
   "source": [
    "student['cgpa'] = ['3.4', '5.0', '4.6', '3.2', '2.3', '4.3', '4.2', '2.8', '3.8', '4.3']"
   ]
  },
  {
   "cell_type": "code",
   "execution_count": 140,
   "id": "61671d8f",
   "metadata": {},
   "outputs": [
    {
     "data": {
      "text/plain": [
       "{'student': ['tunde',\n",
       "  'kola',\n",
       "  'bola',\n",
       "  'kunle',\n",
       "  'fatima',\n",
       "  'ishola',\n",
       "  'hibatullah',\n",
       "  'ghalia',\n",
       "  'sofia',\n",
       "  'akanmu'],\n",
       " 'relationship status': ['married',\n",
       "  'married',\n",
       "  'single',\n",
       "  'single',\n",
       "  'married',\n",
       "  'divorced',\n",
       "  'widow',\n",
       "  'single',\n",
       "  'marrried',\n",
       "  'widow'],\n",
       " 'Age': ['23', '44', '12', '40', '45', '54', ' 24', '89', '150', '78'],\n",
       " 'department': ['BCH',\n",
       "  'MCB',\n",
       "  'LAW',\n",
       "  'AGRIC',\n",
       "  'SAP+D',\n",
       "  'CI',\n",
       "  'EMINES',\n",
       "  'ESAFE',\n",
       "  'GTI',\n",
       "  'SCS'],\n",
       " 'cgpa': ['3.4',\n",
       "  '5.0',\n",
       "  '4.6',\n",
       "  '3.2',\n",
       "  '2.3',\n",
       "  '4.3',\n",
       "  '4.2',\n",
       "  '2.8',\n",
       "  '3.8',\n",
       "  '4.3']}"
      ]
     },
     "execution_count": 140,
     "metadata": {},
     "output_type": "execute_result"
    }
   ],
   "source": [
    "student"
   ]
  },
  {
   "cell_type": "code",
   "execution_count": 141,
   "id": "fa58e31f",
   "metadata": {},
   "outputs": [],
   "source": [
    "#Remove relationship status from the dictionary"
   ]
  },
  {
   "cell_type": "code",
   "execution_count": 142,
   "id": "bd57d425",
   "metadata": {},
   "outputs": [
    {
     "data": {
      "text/plain": [
       "['married',\n",
       " 'married',\n",
       " 'single',\n",
       " 'single',\n",
       " 'married',\n",
       " 'divorced',\n",
       " 'widow',\n",
       " 'single',\n",
       " 'marrried',\n",
       " 'widow']"
      ]
     },
     "execution_count": 142,
     "metadata": {},
     "output_type": "execute_result"
    }
   ],
   "source": [
    "student.pop('relationship status')"
   ]
  },
  {
   "cell_type": "code",
   "execution_count": 143,
   "id": "8bef4567",
   "metadata": {},
   "outputs": [],
   "source": [
    "#Convert the dictionary to a dataframe(df)"
   ]
  },
  {
   "cell_type": "code",
   "execution_count": 144,
   "id": "919d1d45",
   "metadata": {},
   "outputs": [],
   "source": [
    "df = pd.DataFrame(student)"
   ]
  },
  {
   "cell_type": "code",
   "execution_count": 145,
   "id": "ab0f43db",
   "metadata": {},
   "outputs": [
    {
     "data": {
      "text/html": [
       "<div>\n",
       "<style scoped>\n",
       "    .dataframe tbody tr th:only-of-type {\n",
       "        vertical-align: middle;\n",
       "    }\n",
       "\n",
       "    .dataframe tbody tr th {\n",
       "        vertical-align: top;\n",
       "    }\n",
       "\n",
       "    .dataframe thead th {\n",
       "        text-align: right;\n",
       "    }\n",
       "</style>\n",
       "<table border=\"1\" class=\"dataframe\">\n",
       "  <thead>\n",
       "    <tr style=\"text-align: right;\">\n",
       "      <th></th>\n",
       "      <th>student</th>\n",
       "      <th>Age</th>\n",
       "      <th>department</th>\n",
       "      <th>cgpa</th>\n",
       "    </tr>\n",
       "  </thead>\n",
       "  <tbody>\n",
       "    <tr>\n",
       "      <th>0</th>\n",
       "      <td>tunde</td>\n",
       "      <td>23</td>\n",
       "      <td>BCH</td>\n",
       "      <td>3.4</td>\n",
       "    </tr>\n",
       "    <tr>\n",
       "      <th>1</th>\n",
       "      <td>kola</td>\n",
       "      <td>44</td>\n",
       "      <td>MCB</td>\n",
       "      <td>5.0</td>\n",
       "    </tr>\n",
       "    <tr>\n",
       "      <th>2</th>\n",
       "      <td>bola</td>\n",
       "      <td>12</td>\n",
       "      <td>LAW</td>\n",
       "      <td>4.6</td>\n",
       "    </tr>\n",
       "    <tr>\n",
       "      <th>3</th>\n",
       "      <td>kunle</td>\n",
       "      <td>40</td>\n",
       "      <td>AGRIC</td>\n",
       "      <td>3.2</td>\n",
       "    </tr>\n",
       "    <tr>\n",
       "      <th>4</th>\n",
       "      <td>fatima</td>\n",
       "      <td>45</td>\n",
       "      <td>SAP+D</td>\n",
       "      <td>2.3</td>\n",
       "    </tr>\n",
       "    <tr>\n",
       "      <th>5</th>\n",
       "      <td>ishola</td>\n",
       "      <td>54</td>\n",
       "      <td>CI</td>\n",
       "      <td>4.3</td>\n",
       "    </tr>\n",
       "    <tr>\n",
       "      <th>6</th>\n",
       "      <td>hibatullah</td>\n",
       "      <td>24</td>\n",
       "      <td>EMINES</td>\n",
       "      <td>4.2</td>\n",
       "    </tr>\n",
       "    <tr>\n",
       "      <th>7</th>\n",
       "      <td>ghalia</td>\n",
       "      <td>89</td>\n",
       "      <td>ESAFE</td>\n",
       "      <td>2.8</td>\n",
       "    </tr>\n",
       "    <tr>\n",
       "      <th>8</th>\n",
       "      <td>sofia</td>\n",
       "      <td>150</td>\n",
       "      <td>GTI</td>\n",
       "      <td>3.8</td>\n",
       "    </tr>\n",
       "    <tr>\n",
       "      <th>9</th>\n",
       "      <td>akanmu</td>\n",
       "      <td>78</td>\n",
       "      <td>SCS</td>\n",
       "      <td>4.3</td>\n",
       "    </tr>\n",
       "  </tbody>\n",
       "</table>\n",
       "</div>"
      ],
      "text/plain": [
       "      student  Age department cgpa\n",
       "0       tunde   23        BCH  3.4\n",
       "1        kola   44        MCB  5.0\n",
       "2        bola   12        LAW  4.6\n",
       "3       kunle   40      AGRIC  3.2\n",
       "4      fatima   45      SAP+D  2.3\n",
       "5      ishola   54         CI  4.3\n",
       "6  hibatullah   24     EMINES  4.2\n",
       "7      ghalia   89      ESAFE  2.8\n",
       "8       sofia  150        GTI  3.8\n",
       "9      akanmu   78        SCS  4.3"
      ]
     },
     "execution_count": 145,
     "metadata": {},
     "output_type": "execute_result"
    }
   ],
   "source": [
    "df"
   ]
  },
  {
   "cell_type": "code",
   "execution_count": 146,
   "id": "330e81a1",
   "metadata": {},
   "outputs": [],
   "source": [
    "#Add admission_date (year, month and day)and gender columns to the dataframe"
   ]
  },
  {
   "cell_type": "code",
   "execution_count": 147,
   "id": "7e3e2fe8",
   "metadata": {},
   "outputs": [],
   "source": [
    "df['admission_date'] = ['2020-10-05', '2021-12-13','2019-03-05', '2017-05-02', '2017-06-09', '2010-10-13', '2016-06-21', '2017-06-01', '2012-10-03', '2015-04-02']\n",
    "df['gender'] =['male', 'female', 'male', 'male', 'female', 'male', 'female', 'male', 'female', 'female']"
   ]
  },
  {
   "cell_type": "code",
   "execution_count": 148,
   "id": "232c5854",
   "metadata": {},
   "outputs": [],
   "source": [
    "#Check the dataframe"
   ]
  },
  {
   "cell_type": "code",
   "execution_count": 149,
   "id": "7a8e42a8",
   "metadata": {},
   "outputs": [
    {
     "data": {
      "text/html": [
       "<div>\n",
       "<style scoped>\n",
       "    .dataframe tbody tr th:only-of-type {\n",
       "        vertical-align: middle;\n",
       "    }\n",
       "\n",
       "    .dataframe tbody tr th {\n",
       "        vertical-align: top;\n",
       "    }\n",
       "\n",
       "    .dataframe thead th {\n",
       "        text-align: right;\n",
       "    }\n",
       "</style>\n",
       "<table border=\"1\" class=\"dataframe\">\n",
       "  <thead>\n",
       "    <tr style=\"text-align: right;\">\n",
       "      <th></th>\n",
       "      <th>student</th>\n",
       "      <th>Age</th>\n",
       "      <th>department</th>\n",
       "      <th>cgpa</th>\n",
       "      <th>admission_date</th>\n",
       "      <th>gender</th>\n",
       "    </tr>\n",
       "  </thead>\n",
       "  <tbody>\n",
       "    <tr>\n",
       "      <th>0</th>\n",
       "      <td>tunde</td>\n",
       "      <td>23</td>\n",
       "      <td>BCH</td>\n",
       "      <td>3.4</td>\n",
       "      <td>2020-10-05</td>\n",
       "      <td>male</td>\n",
       "    </tr>\n",
       "    <tr>\n",
       "      <th>1</th>\n",
       "      <td>kola</td>\n",
       "      <td>44</td>\n",
       "      <td>MCB</td>\n",
       "      <td>5.0</td>\n",
       "      <td>2021-12-13</td>\n",
       "      <td>female</td>\n",
       "    </tr>\n",
       "    <tr>\n",
       "      <th>2</th>\n",
       "      <td>bola</td>\n",
       "      <td>12</td>\n",
       "      <td>LAW</td>\n",
       "      <td>4.6</td>\n",
       "      <td>2019-03-05</td>\n",
       "      <td>male</td>\n",
       "    </tr>\n",
       "    <tr>\n",
       "      <th>3</th>\n",
       "      <td>kunle</td>\n",
       "      <td>40</td>\n",
       "      <td>AGRIC</td>\n",
       "      <td>3.2</td>\n",
       "      <td>2017-05-02</td>\n",
       "      <td>male</td>\n",
       "    </tr>\n",
       "    <tr>\n",
       "      <th>4</th>\n",
       "      <td>fatima</td>\n",
       "      <td>45</td>\n",
       "      <td>SAP+D</td>\n",
       "      <td>2.3</td>\n",
       "      <td>2017-06-09</td>\n",
       "      <td>female</td>\n",
       "    </tr>\n",
       "    <tr>\n",
       "      <th>5</th>\n",
       "      <td>ishola</td>\n",
       "      <td>54</td>\n",
       "      <td>CI</td>\n",
       "      <td>4.3</td>\n",
       "      <td>2010-10-13</td>\n",
       "      <td>male</td>\n",
       "    </tr>\n",
       "    <tr>\n",
       "      <th>6</th>\n",
       "      <td>hibatullah</td>\n",
       "      <td>24</td>\n",
       "      <td>EMINES</td>\n",
       "      <td>4.2</td>\n",
       "      <td>2016-06-21</td>\n",
       "      <td>female</td>\n",
       "    </tr>\n",
       "    <tr>\n",
       "      <th>7</th>\n",
       "      <td>ghalia</td>\n",
       "      <td>89</td>\n",
       "      <td>ESAFE</td>\n",
       "      <td>2.8</td>\n",
       "      <td>2017-06-01</td>\n",
       "      <td>male</td>\n",
       "    </tr>\n",
       "    <tr>\n",
       "      <th>8</th>\n",
       "      <td>sofia</td>\n",
       "      <td>150</td>\n",
       "      <td>GTI</td>\n",
       "      <td>3.8</td>\n",
       "      <td>2012-10-03</td>\n",
       "      <td>female</td>\n",
       "    </tr>\n",
       "    <tr>\n",
       "      <th>9</th>\n",
       "      <td>akanmu</td>\n",
       "      <td>78</td>\n",
       "      <td>SCS</td>\n",
       "      <td>4.3</td>\n",
       "      <td>2015-04-02</td>\n",
       "      <td>female</td>\n",
       "    </tr>\n",
       "  </tbody>\n",
       "</table>\n",
       "</div>"
      ],
      "text/plain": [
       "      student  Age department cgpa admission_date  gender\n",
       "0       tunde   23        BCH  3.4     2020-10-05    male\n",
       "1        kola   44        MCB  5.0     2021-12-13  female\n",
       "2        bola   12        LAW  4.6     2019-03-05    male\n",
       "3       kunle   40      AGRIC  3.2     2017-05-02    male\n",
       "4      fatima   45      SAP+D  2.3     2017-06-09  female\n",
       "5      ishola   54         CI  4.3     2010-10-13    male\n",
       "6  hibatullah   24     EMINES  4.2     2016-06-21  female\n",
       "7      ghalia   89      ESAFE  2.8     2017-06-01    male\n",
       "8       sofia  150        GTI  3.8     2012-10-03  female\n",
       "9      akanmu   78        SCS  4.3     2015-04-02  female"
      ]
     },
     "execution_count": 149,
     "metadata": {},
     "output_type": "execute_result"
    }
   ],
   "source": [
    "df"
   ]
  },
  {
   "cell_type": "code",
   "execution_count": 150,
   "id": "eaa1bf19",
   "metadata": {},
   "outputs": [
    {
     "data": {
      "text/plain": [
       "'Create the same dataframe (df2) with all the columns \\n(name, age, department, admission_date and gender) \\nfrom a list instead of a dictionary.'"
      ]
     },
     "execution_count": 150,
     "metadata": {},
     "output_type": "execute_result"
    }
   ],
   "source": [
    "'''Create the same dataframe (df2) with all the columns \n",
    "(name, age, department, admission_date and gender) \n",
    "from a list instead of a dictionary.'''"
   ]
  },
  {
   "cell_type": "code",
   "execution_count": 151,
   "id": "131d3d35",
   "metadata": {},
   "outputs": [
    {
     "name": "stderr",
     "output_type": "stream",
     "text": [
      "C:\\Users\\KEHINDE HAFIZ O\\anaconda3\\ann\\lib\\site-packages\\IPython\\core\\interactiveshell.py:3444: FutureWarning: Could not cast to float64, falling back to object. This behavior is deprecated. In a future version, when a dtype is passed to 'DataFrame', either all columns will be cast to that dtype, or a TypeError will be raised\n",
      "  exec(code_obj, self.user_global_ns, self.user_ns)\n"
     ]
    }
   ],
   "source": [
    "liist= [[ 'tunde', 23, 'BCH', '2020-10-25', 'MALE' ],['kola', 44, 'MCB', '2021-12-13', 'FEMALE' ], \n",
    "        ['Bola', 12, 'LAW', '2019-03-05', 'MALE' ],['kunle', 40, 'AGRIC', '2017-05-02', 'MALE' ], \n",
    "        ['Fatima', 45, 'SAP+D', '2017-06-09', 'FEMALE' ], ['ishola', 54, 'CI', '2010-10-13', 'MALE' ],\n",
    "       ['hibattullah', 24, 'EMINES', '2016-06-21', 'FEMALE' ], ['ghalia', 89, 'ESAFE', '2017-06-01', 'MALE' ],\n",
    "       ['Sofia', 150, 'GTI', '2012-14-03', 'FEMALE' ], ['akanmu', 78, 'SCI', '2015-04-02', 'FEMALE' ]] \n",
    "df2=pd.DataFrame(liist, columns=['NAME','AGE', 'DEPARTMENT', 'ADMISSION DATE', 'GENDER'], dtype=float)"
   ]
  },
  {
   "cell_type": "code",
   "execution_count": 152,
   "id": "a99897d7",
   "metadata": {},
   "outputs": [
    {
     "data": {
      "text/html": [
       "<div>\n",
       "<style scoped>\n",
       "    .dataframe tbody tr th:only-of-type {\n",
       "        vertical-align: middle;\n",
       "    }\n",
       "\n",
       "    .dataframe tbody tr th {\n",
       "        vertical-align: top;\n",
       "    }\n",
       "\n",
       "    .dataframe thead th {\n",
       "        text-align: right;\n",
       "    }\n",
       "</style>\n",
       "<table border=\"1\" class=\"dataframe\">\n",
       "  <thead>\n",
       "    <tr style=\"text-align: right;\">\n",
       "      <th></th>\n",
       "      <th>NAME</th>\n",
       "      <th>AGE</th>\n",
       "      <th>DEPARTMENT</th>\n",
       "      <th>ADMISSION DATE</th>\n",
       "      <th>GENDER</th>\n",
       "    </tr>\n",
       "  </thead>\n",
       "  <tbody>\n",
       "    <tr>\n",
       "      <th>0</th>\n",
       "      <td>tunde</td>\n",
       "      <td>23.0</td>\n",
       "      <td>BCH</td>\n",
       "      <td>2020-10-25</td>\n",
       "      <td>MALE</td>\n",
       "    </tr>\n",
       "    <tr>\n",
       "      <th>1</th>\n",
       "      <td>kola</td>\n",
       "      <td>44.0</td>\n",
       "      <td>MCB</td>\n",
       "      <td>2021-12-13</td>\n",
       "      <td>FEMALE</td>\n",
       "    </tr>\n",
       "    <tr>\n",
       "      <th>2</th>\n",
       "      <td>Bola</td>\n",
       "      <td>12.0</td>\n",
       "      <td>LAW</td>\n",
       "      <td>2019-03-05</td>\n",
       "      <td>MALE</td>\n",
       "    </tr>\n",
       "    <tr>\n",
       "      <th>3</th>\n",
       "      <td>kunle</td>\n",
       "      <td>40.0</td>\n",
       "      <td>AGRIC</td>\n",
       "      <td>2017-05-02</td>\n",
       "      <td>MALE</td>\n",
       "    </tr>\n",
       "    <tr>\n",
       "      <th>4</th>\n",
       "      <td>Fatima</td>\n",
       "      <td>45.0</td>\n",
       "      <td>SAP+D</td>\n",
       "      <td>2017-06-09</td>\n",
       "      <td>FEMALE</td>\n",
       "    </tr>\n",
       "    <tr>\n",
       "      <th>5</th>\n",
       "      <td>ishola</td>\n",
       "      <td>54.0</td>\n",
       "      <td>CI</td>\n",
       "      <td>2010-10-13</td>\n",
       "      <td>MALE</td>\n",
       "    </tr>\n",
       "    <tr>\n",
       "      <th>6</th>\n",
       "      <td>hibattullah</td>\n",
       "      <td>24.0</td>\n",
       "      <td>EMINES</td>\n",
       "      <td>2016-06-21</td>\n",
       "      <td>FEMALE</td>\n",
       "    </tr>\n",
       "    <tr>\n",
       "      <th>7</th>\n",
       "      <td>ghalia</td>\n",
       "      <td>89.0</td>\n",
       "      <td>ESAFE</td>\n",
       "      <td>2017-06-01</td>\n",
       "      <td>MALE</td>\n",
       "    </tr>\n",
       "    <tr>\n",
       "      <th>8</th>\n",
       "      <td>Sofia</td>\n",
       "      <td>150.0</td>\n",
       "      <td>GTI</td>\n",
       "      <td>2012-14-03</td>\n",
       "      <td>FEMALE</td>\n",
       "    </tr>\n",
       "    <tr>\n",
       "      <th>9</th>\n",
       "      <td>akanmu</td>\n",
       "      <td>78.0</td>\n",
       "      <td>SCI</td>\n",
       "      <td>2015-04-02</td>\n",
       "      <td>FEMALE</td>\n",
       "    </tr>\n",
       "  </tbody>\n",
       "</table>\n",
       "</div>"
      ],
      "text/plain": [
       "          NAME    AGE DEPARTMENT ADMISSION DATE  GENDER\n",
       "0        tunde   23.0        BCH     2020-10-25    MALE\n",
       "1         kola   44.0        MCB     2021-12-13  FEMALE\n",
       "2         Bola   12.0        LAW     2019-03-05    MALE\n",
       "3        kunle   40.0      AGRIC     2017-05-02    MALE\n",
       "4       Fatima   45.0      SAP+D     2017-06-09  FEMALE\n",
       "5       ishola   54.0         CI     2010-10-13    MALE\n",
       "6  hibattullah   24.0     EMINES     2016-06-21  FEMALE\n",
       "7       ghalia   89.0      ESAFE     2017-06-01    MALE\n",
       "8        Sofia  150.0        GTI     2012-14-03  FEMALE\n",
       "9       akanmu   78.0        SCI     2015-04-02  FEMALE"
      ]
     },
     "execution_count": 152,
     "metadata": {},
     "output_type": "execute_result"
    }
   ],
   "source": [
    "df2"
   ]
  },
  {
   "cell_type": "code",
   "execution_count": 153,
   "id": "00aa97cf",
   "metadata": {},
   "outputs": [],
   "source": [
    "#Convert df admission_date column to datetime"
   ]
  },
  {
   "cell_type": "code",
   "execution_count": 154,
   "id": "2153fd0f",
   "metadata": {},
   "outputs": [],
   "source": [
    "import datetime as dt"
   ]
  },
  {
   "cell_type": "code",
   "execution_count": 155,
   "id": "35207f6c",
   "metadata": {},
   "outputs": [],
   "source": [
    "df['admission_date']=pd.to_datetime(df['admission_date'])"
   ]
  },
  {
   "cell_type": "code",
   "execution_count": 156,
   "id": "5b717881",
   "metadata": {},
   "outputs": [],
   "source": [
    "# to extract the year"
   ]
  },
  {
   "cell_type": "code",
   "execution_count": 157,
   "id": "6d0bbcf4",
   "metadata": {},
   "outputs": [],
   "source": [
    "df['year'] = df['admission_date'].dt.year"
   ]
  },
  {
   "cell_type": "code",
   "execution_count": 158,
   "id": "f98827e0",
   "metadata": {},
   "outputs": [
    {
     "data": {
      "text/html": [
       "<div>\n",
       "<style scoped>\n",
       "    .dataframe tbody tr th:only-of-type {\n",
       "        vertical-align: middle;\n",
       "    }\n",
       "\n",
       "    .dataframe tbody tr th {\n",
       "        vertical-align: top;\n",
       "    }\n",
       "\n",
       "    .dataframe thead th {\n",
       "        text-align: right;\n",
       "    }\n",
       "</style>\n",
       "<table border=\"1\" class=\"dataframe\">\n",
       "  <thead>\n",
       "    <tr style=\"text-align: right;\">\n",
       "      <th></th>\n",
       "      <th>student</th>\n",
       "      <th>Age</th>\n",
       "      <th>department</th>\n",
       "      <th>cgpa</th>\n",
       "      <th>admission_date</th>\n",
       "      <th>gender</th>\n",
       "      <th>year</th>\n",
       "    </tr>\n",
       "  </thead>\n",
       "  <tbody>\n",
       "    <tr>\n",
       "      <th>0</th>\n",
       "      <td>tunde</td>\n",
       "      <td>23</td>\n",
       "      <td>BCH</td>\n",
       "      <td>3.4</td>\n",
       "      <td>2020-10-05</td>\n",
       "      <td>male</td>\n",
       "      <td>2020</td>\n",
       "    </tr>\n",
       "    <tr>\n",
       "      <th>1</th>\n",
       "      <td>kola</td>\n",
       "      <td>44</td>\n",
       "      <td>MCB</td>\n",
       "      <td>5.0</td>\n",
       "      <td>2021-12-13</td>\n",
       "      <td>female</td>\n",
       "      <td>2021</td>\n",
       "    </tr>\n",
       "    <tr>\n",
       "      <th>2</th>\n",
       "      <td>bola</td>\n",
       "      <td>12</td>\n",
       "      <td>LAW</td>\n",
       "      <td>4.6</td>\n",
       "      <td>2019-03-05</td>\n",
       "      <td>male</td>\n",
       "      <td>2019</td>\n",
       "    </tr>\n",
       "    <tr>\n",
       "      <th>3</th>\n",
       "      <td>kunle</td>\n",
       "      <td>40</td>\n",
       "      <td>AGRIC</td>\n",
       "      <td>3.2</td>\n",
       "      <td>2017-05-02</td>\n",
       "      <td>male</td>\n",
       "      <td>2017</td>\n",
       "    </tr>\n",
       "    <tr>\n",
       "      <th>4</th>\n",
       "      <td>fatima</td>\n",
       "      <td>45</td>\n",
       "      <td>SAP+D</td>\n",
       "      <td>2.3</td>\n",
       "      <td>2017-06-09</td>\n",
       "      <td>female</td>\n",
       "      <td>2017</td>\n",
       "    </tr>\n",
       "    <tr>\n",
       "      <th>5</th>\n",
       "      <td>ishola</td>\n",
       "      <td>54</td>\n",
       "      <td>CI</td>\n",
       "      <td>4.3</td>\n",
       "      <td>2010-10-13</td>\n",
       "      <td>male</td>\n",
       "      <td>2010</td>\n",
       "    </tr>\n",
       "    <tr>\n",
       "      <th>6</th>\n",
       "      <td>hibatullah</td>\n",
       "      <td>24</td>\n",
       "      <td>EMINES</td>\n",
       "      <td>4.2</td>\n",
       "      <td>2016-06-21</td>\n",
       "      <td>female</td>\n",
       "      <td>2016</td>\n",
       "    </tr>\n",
       "    <tr>\n",
       "      <th>7</th>\n",
       "      <td>ghalia</td>\n",
       "      <td>89</td>\n",
       "      <td>ESAFE</td>\n",
       "      <td>2.8</td>\n",
       "      <td>2017-06-01</td>\n",
       "      <td>male</td>\n",
       "      <td>2017</td>\n",
       "    </tr>\n",
       "    <tr>\n",
       "      <th>8</th>\n",
       "      <td>sofia</td>\n",
       "      <td>150</td>\n",
       "      <td>GTI</td>\n",
       "      <td>3.8</td>\n",
       "      <td>2012-10-03</td>\n",
       "      <td>female</td>\n",
       "      <td>2012</td>\n",
       "    </tr>\n",
       "    <tr>\n",
       "      <th>9</th>\n",
       "      <td>akanmu</td>\n",
       "      <td>78</td>\n",
       "      <td>SCS</td>\n",
       "      <td>4.3</td>\n",
       "      <td>2015-04-02</td>\n",
       "      <td>female</td>\n",
       "      <td>2015</td>\n",
       "    </tr>\n",
       "  </tbody>\n",
       "</table>\n",
       "</div>"
      ],
      "text/plain": [
       "      student  Age department cgpa admission_date  gender  year\n",
       "0       tunde   23        BCH  3.4     2020-10-05    male  2020\n",
       "1        kola   44        MCB  5.0     2021-12-13  female  2021\n",
       "2        bola   12        LAW  4.6     2019-03-05    male  2019\n",
       "3       kunle   40      AGRIC  3.2     2017-05-02    male  2017\n",
       "4      fatima   45      SAP+D  2.3     2017-06-09  female  2017\n",
       "5      ishola   54         CI  4.3     2010-10-13    male  2010\n",
       "6  hibatullah   24     EMINES  4.2     2016-06-21  female  2016\n",
       "7      ghalia   89      ESAFE  2.8     2017-06-01    male  2017\n",
       "8       sofia  150        GTI  3.8     2012-10-03  female  2012\n",
       "9      akanmu   78        SCS  4.3     2015-04-02  female  2015"
      ]
     },
     "execution_count": 158,
     "metadata": {},
     "output_type": "execute_result"
    }
   ],
   "source": [
    "df"
   ]
  },
  {
   "cell_type": "code",
   "execution_count": 159,
   "id": "5ff9995d",
   "metadata": {},
   "outputs": [],
   "source": [
    "# to check the month"
   ]
  },
  {
   "cell_type": "code",
   "execution_count": 160,
   "id": "2e25cedb",
   "metadata": {},
   "outputs": [],
   "source": [
    "df['month'] = df['admission_date'].dt.month"
   ]
  },
  {
   "cell_type": "code",
   "execution_count": 161,
   "id": "d300e89d",
   "metadata": {},
   "outputs": [
    {
     "data": {
      "text/html": [
       "<div>\n",
       "<style scoped>\n",
       "    .dataframe tbody tr th:only-of-type {\n",
       "        vertical-align: middle;\n",
       "    }\n",
       "\n",
       "    .dataframe tbody tr th {\n",
       "        vertical-align: top;\n",
       "    }\n",
       "\n",
       "    .dataframe thead th {\n",
       "        text-align: right;\n",
       "    }\n",
       "</style>\n",
       "<table border=\"1\" class=\"dataframe\">\n",
       "  <thead>\n",
       "    <tr style=\"text-align: right;\">\n",
       "      <th></th>\n",
       "      <th>student</th>\n",
       "      <th>Age</th>\n",
       "      <th>department</th>\n",
       "      <th>cgpa</th>\n",
       "      <th>admission_date</th>\n",
       "      <th>gender</th>\n",
       "      <th>year</th>\n",
       "      <th>month</th>\n",
       "    </tr>\n",
       "  </thead>\n",
       "  <tbody>\n",
       "    <tr>\n",
       "      <th>0</th>\n",
       "      <td>tunde</td>\n",
       "      <td>23</td>\n",
       "      <td>BCH</td>\n",
       "      <td>3.4</td>\n",
       "      <td>2020-10-05</td>\n",
       "      <td>male</td>\n",
       "      <td>2020</td>\n",
       "      <td>10</td>\n",
       "    </tr>\n",
       "    <tr>\n",
       "      <th>1</th>\n",
       "      <td>kola</td>\n",
       "      <td>44</td>\n",
       "      <td>MCB</td>\n",
       "      <td>5.0</td>\n",
       "      <td>2021-12-13</td>\n",
       "      <td>female</td>\n",
       "      <td>2021</td>\n",
       "      <td>12</td>\n",
       "    </tr>\n",
       "    <tr>\n",
       "      <th>2</th>\n",
       "      <td>bola</td>\n",
       "      <td>12</td>\n",
       "      <td>LAW</td>\n",
       "      <td>4.6</td>\n",
       "      <td>2019-03-05</td>\n",
       "      <td>male</td>\n",
       "      <td>2019</td>\n",
       "      <td>3</td>\n",
       "    </tr>\n",
       "    <tr>\n",
       "      <th>3</th>\n",
       "      <td>kunle</td>\n",
       "      <td>40</td>\n",
       "      <td>AGRIC</td>\n",
       "      <td>3.2</td>\n",
       "      <td>2017-05-02</td>\n",
       "      <td>male</td>\n",
       "      <td>2017</td>\n",
       "      <td>5</td>\n",
       "    </tr>\n",
       "    <tr>\n",
       "      <th>4</th>\n",
       "      <td>fatima</td>\n",
       "      <td>45</td>\n",
       "      <td>SAP+D</td>\n",
       "      <td>2.3</td>\n",
       "      <td>2017-06-09</td>\n",
       "      <td>female</td>\n",
       "      <td>2017</td>\n",
       "      <td>6</td>\n",
       "    </tr>\n",
       "    <tr>\n",
       "      <th>5</th>\n",
       "      <td>ishola</td>\n",
       "      <td>54</td>\n",
       "      <td>CI</td>\n",
       "      <td>4.3</td>\n",
       "      <td>2010-10-13</td>\n",
       "      <td>male</td>\n",
       "      <td>2010</td>\n",
       "      <td>10</td>\n",
       "    </tr>\n",
       "    <tr>\n",
       "      <th>6</th>\n",
       "      <td>hibatullah</td>\n",
       "      <td>24</td>\n",
       "      <td>EMINES</td>\n",
       "      <td>4.2</td>\n",
       "      <td>2016-06-21</td>\n",
       "      <td>female</td>\n",
       "      <td>2016</td>\n",
       "      <td>6</td>\n",
       "    </tr>\n",
       "    <tr>\n",
       "      <th>7</th>\n",
       "      <td>ghalia</td>\n",
       "      <td>89</td>\n",
       "      <td>ESAFE</td>\n",
       "      <td>2.8</td>\n",
       "      <td>2017-06-01</td>\n",
       "      <td>male</td>\n",
       "      <td>2017</td>\n",
       "      <td>6</td>\n",
       "    </tr>\n",
       "    <tr>\n",
       "      <th>8</th>\n",
       "      <td>sofia</td>\n",
       "      <td>150</td>\n",
       "      <td>GTI</td>\n",
       "      <td>3.8</td>\n",
       "      <td>2012-10-03</td>\n",
       "      <td>female</td>\n",
       "      <td>2012</td>\n",
       "      <td>10</td>\n",
       "    </tr>\n",
       "    <tr>\n",
       "      <th>9</th>\n",
       "      <td>akanmu</td>\n",
       "      <td>78</td>\n",
       "      <td>SCS</td>\n",
       "      <td>4.3</td>\n",
       "      <td>2015-04-02</td>\n",
       "      <td>female</td>\n",
       "      <td>2015</td>\n",
       "      <td>4</td>\n",
       "    </tr>\n",
       "  </tbody>\n",
       "</table>\n",
       "</div>"
      ],
      "text/plain": [
       "      student  Age department cgpa admission_date  gender  year  month\n",
       "0       tunde   23        BCH  3.4     2020-10-05    male  2020     10\n",
       "1        kola   44        MCB  5.0     2021-12-13  female  2021     12\n",
       "2        bola   12        LAW  4.6     2019-03-05    male  2019      3\n",
       "3       kunle   40      AGRIC  3.2     2017-05-02    male  2017      5\n",
       "4      fatima   45      SAP+D  2.3     2017-06-09  female  2017      6\n",
       "5      ishola   54         CI  4.3     2010-10-13    male  2010     10\n",
       "6  hibatullah   24     EMINES  4.2     2016-06-21  female  2016      6\n",
       "7      ghalia   89      ESAFE  2.8     2017-06-01    male  2017      6\n",
       "8       sofia  150        GTI  3.8     2012-10-03  female  2012     10\n",
       "9      akanmu   78        SCS  4.3     2015-04-02  female  2015      4"
      ]
     },
     "execution_count": 161,
     "metadata": {},
     "output_type": "execute_result"
    }
   ],
   "source": [
    "df"
   ]
  },
  {
   "cell_type": "code",
   "execution_count": 162,
   "id": "a1e62ec8",
   "metadata": {},
   "outputs": [],
   "source": [
    "#to check the year"
   ]
  },
  {
   "cell_type": "code",
   "execution_count": 163,
   "id": "2405b1d4",
   "metadata": {},
   "outputs": [],
   "source": [
    "df['day'] = df['admission_date'].dt.day"
   ]
  },
  {
   "cell_type": "code",
   "execution_count": 164,
   "id": "b89cbdd8",
   "metadata": {},
   "outputs": [
    {
     "data": {
      "text/html": [
       "<div>\n",
       "<style scoped>\n",
       "    .dataframe tbody tr th:only-of-type {\n",
       "        vertical-align: middle;\n",
       "    }\n",
       "\n",
       "    .dataframe tbody tr th {\n",
       "        vertical-align: top;\n",
       "    }\n",
       "\n",
       "    .dataframe thead th {\n",
       "        text-align: right;\n",
       "    }\n",
       "</style>\n",
       "<table border=\"1\" class=\"dataframe\">\n",
       "  <thead>\n",
       "    <tr style=\"text-align: right;\">\n",
       "      <th></th>\n",
       "      <th>student</th>\n",
       "      <th>Age</th>\n",
       "      <th>department</th>\n",
       "      <th>cgpa</th>\n",
       "      <th>admission_date</th>\n",
       "      <th>gender</th>\n",
       "      <th>year</th>\n",
       "      <th>month</th>\n",
       "      <th>day</th>\n",
       "    </tr>\n",
       "  </thead>\n",
       "  <tbody>\n",
       "    <tr>\n",
       "      <th>0</th>\n",
       "      <td>tunde</td>\n",
       "      <td>23</td>\n",
       "      <td>BCH</td>\n",
       "      <td>3.4</td>\n",
       "      <td>2020-10-05</td>\n",
       "      <td>male</td>\n",
       "      <td>2020</td>\n",
       "      <td>10</td>\n",
       "      <td>5</td>\n",
       "    </tr>\n",
       "    <tr>\n",
       "      <th>1</th>\n",
       "      <td>kola</td>\n",
       "      <td>44</td>\n",
       "      <td>MCB</td>\n",
       "      <td>5.0</td>\n",
       "      <td>2021-12-13</td>\n",
       "      <td>female</td>\n",
       "      <td>2021</td>\n",
       "      <td>12</td>\n",
       "      <td>13</td>\n",
       "    </tr>\n",
       "    <tr>\n",
       "      <th>2</th>\n",
       "      <td>bola</td>\n",
       "      <td>12</td>\n",
       "      <td>LAW</td>\n",
       "      <td>4.6</td>\n",
       "      <td>2019-03-05</td>\n",
       "      <td>male</td>\n",
       "      <td>2019</td>\n",
       "      <td>3</td>\n",
       "      <td>5</td>\n",
       "    </tr>\n",
       "    <tr>\n",
       "      <th>3</th>\n",
       "      <td>kunle</td>\n",
       "      <td>40</td>\n",
       "      <td>AGRIC</td>\n",
       "      <td>3.2</td>\n",
       "      <td>2017-05-02</td>\n",
       "      <td>male</td>\n",
       "      <td>2017</td>\n",
       "      <td>5</td>\n",
       "      <td>2</td>\n",
       "    </tr>\n",
       "    <tr>\n",
       "      <th>4</th>\n",
       "      <td>fatima</td>\n",
       "      <td>45</td>\n",
       "      <td>SAP+D</td>\n",
       "      <td>2.3</td>\n",
       "      <td>2017-06-09</td>\n",
       "      <td>female</td>\n",
       "      <td>2017</td>\n",
       "      <td>6</td>\n",
       "      <td>9</td>\n",
       "    </tr>\n",
       "    <tr>\n",
       "      <th>5</th>\n",
       "      <td>ishola</td>\n",
       "      <td>54</td>\n",
       "      <td>CI</td>\n",
       "      <td>4.3</td>\n",
       "      <td>2010-10-13</td>\n",
       "      <td>male</td>\n",
       "      <td>2010</td>\n",
       "      <td>10</td>\n",
       "      <td>13</td>\n",
       "    </tr>\n",
       "    <tr>\n",
       "      <th>6</th>\n",
       "      <td>hibatullah</td>\n",
       "      <td>24</td>\n",
       "      <td>EMINES</td>\n",
       "      <td>4.2</td>\n",
       "      <td>2016-06-21</td>\n",
       "      <td>female</td>\n",
       "      <td>2016</td>\n",
       "      <td>6</td>\n",
       "      <td>21</td>\n",
       "    </tr>\n",
       "    <tr>\n",
       "      <th>7</th>\n",
       "      <td>ghalia</td>\n",
       "      <td>89</td>\n",
       "      <td>ESAFE</td>\n",
       "      <td>2.8</td>\n",
       "      <td>2017-06-01</td>\n",
       "      <td>male</td>\n",
       "      <td>2017</td>\n",
       "      <td>6</td>\n",
       "      <td>1</td>\n",
       "    </tr>\n",
       "    <tr>\n",
       "      <th>8</th>\n",
       "      <td>sofia</td>\n",
       "      <td>150</td>\n",
       "      <td>GTI</td>\n",
       "      <td>3.8</td>\n",
       "      <td>2012-10-03</td>\n",
       "      <td>female</td>\n",
       "      <td>2012</td>\n",
       "      <td>10</td>\n",
       "      <td>3</td>\n",
       "    </tr>\n",
       "    <tr>\n",
       "      <th>9</th>\n",
       "      <td>akanmu</td>\n",
       "      <td>78</td>\n",
       "      <td>SCS</td>\n",
       "      <td>4.3</td>\n",
       "      <td>2015-04-02</td>\n",
       "      <td>female</td>\n",
       "      <td>2015</td>\n",
       "      <td>4</td>\n",
       "      <td>2</td>\n",
       "    </tr>\n",
       "  </tbody>\n",
       "</table>\n",
       "</div>"
      ],
      "text/plain": [
       "      student  Age department cgpa admission_date  gender  year  month  day\n",
       "0       tunde   23        BCH  3.4     2020-10-05    male  2020     10    5\n",
       "1        kola   44        MCB  5.0     2021-12-13  female  2021     12   13\n",
       "2        bola   12        LAW  4.6     2019-03-05    male  2019      3    5\n",
       "3       kunle   40      AGRIC  3.2     2017-05-02    male  2017      5    2\n",
       "4      fatima   45      SAP+D  2.3     2017-06-09  female  2017      6    9\n",
       "5      ishola   54         CI  4.3     2010-10-13    male  2010     10   13\n",
       "6  hibatullah   24     EMINES  4.2     2016-06-21  female  2016      6   21\n",
       "7      ghalia   89      ESAFE  2.8     2017-06-01    male  2017      6    1\n",
       "8       sofia  150        GTI  3.8     2012-10-03  female  2012     10    3\n",
       "9      akanmu   78        SCS  4.3     2015-04-02  female  2015      4    2"
      ]
     },
     "execution_count": 164,
     "metadata": {},
     "output_type": "execute_result"
    }
   ],
   "source": [
    "df"
   ]
  },
  {
   "cell_type": "code",
   "execution_count": 165,
   "id": "a20142d4",
   "metadata": {},
   "outputs": [],
   "source": [
    "#Check for data types of all columns"
   ]
  },
  {
   "cell_type": "code",
   "execution_count": 166,
   "id": "09187f58",
   "metadata": {},
   "outputs": [
    {
     "data": {
      "text/plain": [
       "student                   object\n",
       "Age                       object\n",
       "department                object\n",
       "cgpa                      object\n",
       "admission_date    datetime64[ns]\n",
       "gender                    object\n",
       "year                       int64\n",
       "month                      int64\n",
       "day                        int64\n",
       "dtype: object"
      ]
     },
     "execution_count": 166,
     "metadata": {},
     "output_type": "execute_result"
    }
   ],
   "source": [
    "df.dtypes"
   ]
  },
  {
   "cell_type": "code",
   "execution_count": 167,
   "id": "b4572061",
   "metadata": {},
   "outputs": [],
   "source": [
    "# Check for missing values"
   ]
  },
  {
   "cell_type": "code",
   "execution_count": 168,
   "id": "5aa523ab",
   "metadata": {},
   "outputs": [
    {
     "data": {
      "text/html": [
       "<div>\n",
       "<style scoped>\n",
       "    .dataframe tbody tr th:only-of-type {\n",
       "        vertical-align: middle;\n",
       "    }\n",
       "\n",
       "    .dataframe tbody tr th {\n",
       "        vertical-align: top;\n",
       "    }\n",
       "\n",
       "    .dataframe thead th {\n",
       "        text-align: right;\n",
       "    }\n",
       "</style>\n",
       "<table border=\"1\" class=\"dataframe\">\n",
       "  <thead>\n",
       "    <tr style=\"text-align: right;\">\n",
       "      <th></th>\n",
       "      <th>student</th>\n",
       "      <th>Age</th>\n",
       "      <th>department</th>\n",
       "      <th>cgpa</th>\n",
       "      <th>admission_date</th>\n",
       "      <th>gender</th>\n",
       "      <th>year</th>\n",
       "      <th>month</th>\n",
       "      <th>day</th>\n",
       "    </tr>\n",
       "  </thead>\n",
       "  <tbody>\n",
       "    <tr>\n",
       "      <th>0</th>\n",
       "      <td>False</td>\n",
       "      <td>False</td>\n",
       "      <td>False</td>\n",
       "      <td>False</td>\n",
       "      <td>False</td>\n",
       "      <td>False</td>\n",
       "      <td>False</td>\n",
       "      <td>False</td>\n",
       "      <td>False</td>\n",
       "    </tr>\n",
       "    <tr>\n",
       "      <th>1</th>\n",
       "      <td>False</td>\n",
       "      <td>False</td>\n",
       "      <td>False</td>\n",
       "      <td>False</td>\n",
       "      <td>False</td>\n",
       "      <td>False</td>\n",
       "      <td>False</td>\n",
       "      <td>False</td>\n",
       "      <td>False</td>\n",
       "    </tr>\n",
       "    <tr>\n",
       "      <th>2</th>\n",
       "      <td>False</td>\n",
       "      <td>False</td>\n",
       "      <td>False</td>\n",
       "      <td>False</td>\n",
       "      <td>False</td>\n",
       "      <td>False</td>\n",
       "      <td>False</td>\n",
       "      <td>False</td>\n",
       "      <td>False</td>\n",
       "    </tr>\n",
       "    <tr>\n",
       "      <th>3</th>\n",
       "      <td>False</td>\n",
       "      <td>False</td>\n",
       "      <td>False</td>\n",
       "      <td>False</td>\n",
       "      <td>False</td>\n",
       "      <td>False</td>\n",
       "      <td>False</td>\n",
       "      <td>False</td>\n",
       "      <td>False</td>\n",
       "    </tr>\n",
       "    <tr>\n",
       "      <th>4</th>\n",
       "      <td>False</td>\n",
       "      <td>False</td>\n",
       "      <td>False</td>\n",
       "      <td>False</td>\n",
       "      <td>False</td>\n",
       "      <td>False</td>\n",
       "      <td>False</td>\n",
       "      <td>False</td>\n",
       "      <td>False</td>\n",
       "    </tr>\n",
       "    <tr>\n",
       "      <th>5</th>\n",
       "      <td>False</td>\n",
       "      <td>False</td>\n",
       "      <td>False</td>\n",
       "      <td>False</td>\n",
       "      <td>False</td>\n",
       "      <td>False</td>\n",
       "      <td>False</td>\n",
       "      <td>False</td>\n",
       "      <td>False</td>\n",
       "    </tr>\n",
       "    <tr>\n",
       "      <th>6</th>\n",
       "      <td>False</td>\n",
       "      <td>False</td>\n",
       "      <td>False</td>\n",
       "      <td>False</td>\n",
       "      <td>False</td>\n",
       "      <td>False</td>\n",
       "      <td>False</td>\n",
       "      <td>False</td>\n",
       "      <td>False</td>\n",
       "    </tr>\n",
       "    <tr>\n",
       "      <th>7</th>\n",
       "      <td>False</td>\n",
       "      <td>False</td>\n",
       "      <td>False</td>\n",
       "      <td>False</td>\n",
       "      <td>False</td>\n",
       "      <td>False</td>\n",
       "      <td>False</td>\n",
       "      <td>False</td>\n",
       "      <td>False</td>\n",
       "    </tr>\n",
       "    <tr>\n",
       "      <th>8</th>\n",
       "      <td>False</td>\n",
       "      <td>False</td>\n",
       "      <td>False</td>\n",
       "      <td>False</td>\n",
       "      <td>False</td>\n",
       "      <td>False</td>\n",
       "      <td>False</td>\n",
       "      <td>False</td>\n",
       "      <td>False</td>\n",
       "    </tr>\n",
       "    <tr>\n",
       "      <th>9</th>\n",
       "      <td>False</td>\n",
       "      <td>False</td>\n",
       "      <td>False</td>\n",
       "      <td>False</td>\n",
       "      <td>False</td>\n",
       "      <td>False</td>\n",
       "      <td>False</td>\n",
       "      <td>False</td>\n",
       "      <td>False</td>\n",
       "    </tr>\n",
       "  </tbody>\n",
       "</table>\n",
       "</div>"
      ],
      "text/plain": [
       "   student    Age  department   cgpa  admission_date  gender   year  month  \\\n",
       "0    False  False       False  False           False   False  False  False   \n",
       "1    False  False       False  False           False   False  False  False   \n",
       "2    False  False       False  False           False   False  False  False   \n",
       "3    False  False       False  False           False   False  False  False   \n",
       "4    False  False       False  False           False   False  False  False   \n",
       "5    False  False       False  False           False   False  False  False   \n",
       "6    False  False       False  False           False   False  False  False   \n",
       "7    False  False       False  False           False   False  False  False   \n",
       "8    False  False       False  False           False   False  False  False   \n",
       "9    False  False       False  False           False   False  False  False   \n",
       "\n",
       "     day  \n",
       "0  False  \n",
       "1  False  \n",
       "2  False  \n",
       "3  False  \n",
       "4  False  \n",
       "5  False  \n",
       "6  False  \n",
       "7  False  \n",
       "8  False  \n",
       "9  False  "
      ]
     },
     "execution_count": 168,
     "metadata": {},
     "output_type": "execute_result"
    }
   ],
   "source": [
    "df.isnull()"
   ]
  },
  {
   "cell_type": "code",
   "execution_count": 169,
   "id": "1310e4a7",
   "metadata": {},
   "outputs": [],
   "source": [
    "## Check for percentage of  missing values"
   ]
  },
  {
   "cell_type": "code",
   "execution_count": 170,
   "id": "bf309ffe",
   "metadata": {},
   "outputs": [
    {
     "data": {
      "text/plain": [
       "student           0.0\n",
       "Age               0.0\n",
       "department        0.0\n",
       "cgpa              0.0\n",
       "admission_date    0.0\n",
       "gender            0.0\n",
       "year              0.0\n",
       "month             0.0\n",
       "day               0.0\n",
       "dtype: float64"
      ]
     },
     "execution_count": 170,
     "metadata": {},
     "output_type": "execute_result"
    }
   ],
   "source": [
    "df.isnull().sum()/10*100"
   ]
  },
  {
   "cell_type": "code",
   "execution_count": 171,
   "id": "bf09b47c",
   "metadata": {},
   "outputs": [],
   "source": [
    "# Check unique values in each of the columns"
   ]
  },
  {
   "cell_type": "code",
   "execution_count": 172,
   "id": "98f5b86e",
   "metadata": {},
   "outputs": [
    {
     "data": {
      "text/plain": [
       "array(['tunde', 'kola', 'bola', 'kunle', 'fatima', 'ishola', 'hibatullah',\n",
       "       'ghalia', 'sofia', 'akanmu'], dtype=object)"
      ]
     },
     "execution_count": 172,
     "metadata": {},
     "output_type": "execute_result"
    }
   ],
   "source": [
    "df['student'].unique()"
   ]
  },
  {
   "cell_type": "code",
   "execution_count": 173,
   "id": "be8503bc",
   "metadata": {},
   "outputs": [
    {
     "data": {
      "text/plain": [
       "array(['23', '44', '12', '40', '45', '54', ' 24', '89', '150', '78'],\n",
       "      dtype=object)"
      ]
     },
     "execution_count": 173,
     "metadata": {},
     "output_type": "execute_result"
    }
   ],
   "source": [
    "df['Age'].unique()"
   ]
  },
  {
   "cell_type": "code",
   "execution_count": 174,
   "id": "0035feaa",
   "metadata": {},
   "outputs": [
    {
     "data": {
      "text/plain": [
       "array(['BCH', 'MCB', 'LAW', 'AGRIC', 'SAP+D', 'CI', 'EMINES', 'ESAFE',\n",
       "       'GTI', 'SCS'], dtype=object)"
      ]
     },
     "execution_count": 174,
     "metadata": {},
     "output_type": "execute_result"
    }
   ],
   "source": [
    "df['department'].unique()"
   ]
  },
  {
   "cell_type": "code",
   "execution_count": 175,
   "id": "2452f8b7",
   "metadata": {},
   "outputs": [
    {
     "data": {
      "text/plain": [
       "array(['2020-10-05T00:00:00.000000000', '2021-12-13T00:00:00.000000000',\n",
       "       '2019-03-05T00:00:00.000000000', '2017-05-02T00:00:00.000000000',\n",
       "       '2017-06-09T00:00:00.000000000', '2010-10-13T00:00:00.000000000',\n",
       "       '2016-06-21T00:00:00.000000000', '2017-06-01T00:00:00.000000000',\n",
       "       '2012-10-03T00:00:00.000000000', '2015-04-02T00:00:00.000000000'],\n",
       "      dtype='datetime64[ns]')"
      ]
     },
     "execution_count": 175,
     "metadata": {},
     "output_type": "execute_result"
    }
   ],
   "source": [
    "df['admission_date'].unique()"
   ]
  },
  {
   "cell_type": "code",
   "execution_count": 176,
   "id": "9791adbf",
   "metadata": {},
   "outputs": [
    {
     "data": {
      "text/plain": [
       "array(['male', 'female'], dtype=object)"
      ]
     },
     "execution_count": 176,
     "metadata": {},
     "output_type": "execute_result"
    }
   ],
   "source": [
    "df['gender'].unique()"
   ]
  },
  {
   "cell_type": "code",
   "execution_count": 177,
   "id": "caa293eb",
   "metadata": {},
   "outputs": [],
   "source": [
    "#Check number of unique values in each of the columns"
   ]
  },
  {
   "cell_type": "code",
   "execution_count": 178,
   "id": "992acdd1",
   "metadata": {},
   "outputs": [
    {
     "data": {
      "text/plain": [
       "10"
      ]
     },
     "execution_count": 178,
     "metadata": {},
     "output_type": "execute_result"
    }
   ],
   "source": [
    "df['student'].nunique()"
   ]
  },
  {
   "cell_type": "code",
   "execution_count": 179,
   "id": "3d1184bc",
   "metadata": {},
   "outputs": [
    {
     "data": {
      "text/plain": [
       "10"
      ]
     },
     "execution_count": 179,
     "metadata": {},
     "output_type": "execute_result"
    }
   ],
   "source": [
    "df['Age'].nunique()"
   ]
  },
  {
   "cell_type": "code",
   "execution_count": 180,
   "id": "bb14dc48",
   "metadata": {},
   "outputs": [
    {
     "data": {
      "text/plain": [
       "10"
      ]
     },
     "execution_count": 180,
     "metadata": {},
     "output_type": "execute_result"
    }
   ],
   "source": [
    "df['department'].nunique()"
   ]
  },
  {
   "cell_type": "code",
   "execution_count": 181,
   "id": "a2f57f66",
   "metadata": {},
   "outputs": [
    {
     "data": {
      "text/plain": [
       "10"
      ]
     },
     "execution_count": 181,
     "metadata": {},
     "output_type": "execute_result"
    }
   ],
   "source": [
    "df['admission_date'].nunique()"
   ]
  },
  {
   "cell_type": "code",
   "execution_count": 182,
   "id": "ab6e1ab9",
   "metadata": {},
   "outputs": [
    {
     "data": {
      "text/plain": [
       "2"
      ]
     },
     "execution_count": 182,
     "metadata": {},
     "output_type": "execute_result"
    }
   ],
   "source": [
    "df['gender'].nunique()"
   ]
  },
  {
   "cell_type": "code",
   "execution_count": 183,
   "id": "74c5bb54",
   "metadata": {},
   "outputs": [],
   "source": [
    "# Check value counts for each of the columns"
   ]
  },
  {
   "cell_type": "code",
   "execution_count": 184,
   "id": "581a3e0e",
   "metadata": {},
   "outputs": [
    {
     "data": {
      "text/plain": [
       "tunde         1\n",
       "kola          1\n",
       "bola          1\n",
       "kunle         1\n",
       "fatima        1\n",
       "ishola        1\n",
       "hibatullah    1\n",
       "ghalia        1\n",
       "sofia         1\n",
       "akanmu        1\n",
       "Name: student, dtype: int64"
      ]
     },
     "execution_count": 184,
     "metadata": {},
     "output_type": "execute_result"
    }
   ],
   "source": [
    " df['student'].value_counts()"
   ]
  },
  {
   "cell_type": "code",
   "execution_count": 185,
   "id": "78f5b969",
   "metadata": {},
   "outputs": [
    {
     "data": {
      "text/plain": [
       "23     1\n",
       "44     1\n",
       "12     1\n",
       "40     1\n",
       "45     1\n",
       "54     1\n",
       " 24    1\n",
       "89     1\n",
       "150    1\n",
       "78     1\n",
       "Name: Age, dtype: int64"
      ]
     },
     "execution_count": 185,
     "metadata": {},
     "output_type": "execute_result"
    }
   ],
   "source": [
    "df['Age'].value_counts()"
   ]
  },
  {
   "cell_type": "code",
   "execution_count": 186,
   "id": "74e81669",
   "metadata": {},
   "outputs": [
    {
     "data": {
      "text/plain": [
       "BCH       1\n",
       "MCB       1\n",
       "LAW       1\n",
       "AGRIC     1\n",
       "SAP+D     1\n",
       "CI        1\n",
       "EMINES    1\n",
       "ESAFE     1\n",
       "GTI       1\n",
       "SCS       1\n",
       "Name: department, dtype: int64"
      ]
     },
     "execution_count": 186,
     "metadata": {},
     "output_type": "execute_result"
    }
   ],
   "source": [
    "df['department'].value_counts()"
   ]
  },
  {
   "cell_type": "code",
   "execution_count": 187,
   "id": "2861a869",
   "metadata": {},
   "outputs": [
    {
     "data": {
      "text/plain": [
       "2020-10-05    1\n",
       "2021-12-13    1\n",
       "2019-03-05    1\n",
       "2017-05-02    1\n",
       "2017-06-09    1\n",
       "2010-10-13    1\n",
       "2016-06-21    1\n",
       "2017-06-01    1\n",
       "2012-10-03    1\n",
       "2015-04-02    1\n",
       "Name: admission_date, dtype: int64"
      ]
     },
     "execution_count": 187,
     "metadata": {},
     "output_type": "execute_result"
    }
   ],
   "source": [
    "df['admission_date'].value_counts()"
   ]
  },
  {
   "cell_type": "code",
   "execution_count": 188,
   "id": "4b920f40",
   "metadata": {},
   "outputs": [
    {
     "data": {
      "text/plain": [
       "male      5\n",
       "female    5\n",
       "Name: gender, dtype: int64"
      ]
     },
     "execution_count": 188,
     "metadata": {},
     "output_type": "execute_result"
    }
   ],
   "source": [
    "df['gender'].value_counts()"
   ]
  },
  {
   "cell_type": "code",
   "execution_count": 189,
   "id": "ccec9fef",
   "metadata": {},
   "outputs": [],
   "source": [
    "# to check the information"
   ]
  },
  {
   "cell_type": "code",
   "execution_count": 190,
   "id": "2d6326b0",
   "metadata": {},
   "outputs": [
    {
     "name": "stdout",
     "output_type": "stream",
     "text": [
      "<class 'pandas.core.frame.DataFrame'>\n",
      "RangeIndex: 10 entries, 0 to 9\n",
      "Data columns (total 9 columns):\n",
      " #   Column          Non-Null Count  Dtype         \n",
      "---  ------          --------------  -----         \n",
      " 0   student         10 non-null     object        \n",
      " 1   Age             10 non-null     object        \n",
      " 2   department      10 non-null     object        \n",
      " 3   cgpa            10 non-null     object        \n",
      " 4   admission_date  10 non-null     datetime64[ns]\n",
      " 5   gender          10 non-null     object        \n",
      " 6   year            10 non-null     int64         \n",
      " 7   month           10 non-null     int64         \n",
      " 8   day             10 non-null     int64         \n",
      "dtypes: datetime64[ns](1), int64(3), object(5)\n",
      "memory usage: 848.0+ bytes\n"
     ]
    }
   ],
   "source": [
    "df.info()"
   ]
  },
  {
   "cell_type": "code",
   "execution_count": 191,
   "id": "b9944f0c",
   "metadata": {},
   "outputs": [],
   "source": [
    "# to check the discription"
   ]
  },
  {
   "cell_type": "code",
   "execution_count": 192,
   "id": "0f0aa882",
   "metadata": {},
   "outputs": [
    {
     "data": {
      "text/html": [
       "<div>\n",
       "<style scoped>\n",
       "    .dataframe tbody tr th:only-of-type {\n",
       "        vertical-align: middle;\n",
       "    }\n",
       "\n",
       "    .dataframe tbody tr th {\n",
       "        vertical-align: top;\n",
       "    }\n",
       "\n",
       "    .dataframe thead th {\n",
       "        text-align: right;\n",
       "    }\n",
       "</style>\n",
       "<table border=\"1\" class=\"dataframe\">\n",
       "  <thead>\n",
       "    <tr style=\"text-align: right;\">\n",
       "      <th></th>\n",
       "      <th>count</th>\n",
       "      <th>mean</th>\n",
       "      <th>std</th>\n",
       "      <th>min</th>\n",
       "      <th>25%</th>\n",
       "      <th>50%</th>\n",
       "      <th>75%</th>\n",
       "      <th>max</th>\n",
       "    </tr>\n",
       "  </thead>\n",
       "  <tbody>\n",
       "    <tr>\n",
       "      <th>year</th>\n",
       "      <td>10.0</td>\n",
       "      <td>2016.4</td>\n",
       "      <td>3.405877</td>\n",
       "      <td>2010.0</td>\n",
       "      <td>2015.25</td>\n",
       "      <td>2017.0</td>\n",
       "      <td>2018.5</td>\n",
       "      <td>2021.0</td>\n",
       "    </tr>\n",
       "    <tr>\n",
       "      <th>month</th>\n",
       "      <td>10.0</td>\n",
       "      <td>7.2</td>\n",
       "      <td>3.047768</td>\n",
       "      <td>3.0</td>\n",
       "      <td>5.25</td>\n",
       "      <td>6.0</td>\n",
       "      <td>10.0</td>\n",
       "      <td>12.0</td>\n",
       "    </tr>\n",
       "    <tr>\n",
       "      <th>day</th>\n",
       "      <td>10.0</td>\n",
       "      <td>7.4</td>\n",
       "      <td>6.501282</td>\n",
       "      <td>1.0</td>\n",
       "      <td>2.25</td>\n",
       "      <td>5.0</td>\n",
       "      <td>12.0</td>\n",
       "      <td>21.0</td>\n",
       "    </tr>\n",
       "  </tbody>\n",
       "</table>\n",
       "</div>"
      ],
      "text/plain": [
       "       count    mean       std     min      25%     50%     75%     max\n",
       "year    10.0  2016.4  3.405877  2010.0  2015.25  2017.0  2018.5  2021.0\n",
       "month   10.0     7.2  3.047768     3.0     5.25     6.0    10.0    12.0\n",
       "day     10.0     7.4  6.501282     1.0     2.25     5.0    12.0    21.0"
      ]
     },
     "execution_count": 192,
     "metadata": {},
     "output_type": "execute_result"
    }
   ],
   "source": [
    "df.describe().T"
   ]
  },
  {
   "cell_type": "code",
   "execution_count": 193,
   "id": "a1ab8999",
   "metadata": {},
   "outputs": [],
   "source": [
    "# How many rows and columns do you have? show it with df.shape"
   ]
  },
  {
   "cell_type": "code",
   "execution_count": 194,
   "id": "19528225",
   "metadata": {},
   "outputs": [
    {
     "data": {
      "text/plain": [
       "(10, 9)"
      ]
     },
     "execution_count": 194,
     "metadata": {},
     "output_type": "execute_result"
    }
   ],
   "source": [
    "df.shape"
   ]
  },
  {
   "cell_type": "code",
   "execution_count": 195,
   "id": "e9735767",
   "metadata": {},
   "outputs": [],
   "source": [
    "## Subset the dataframe for male gender"
   ]
  },
  {
   "cell_type": "code",
   "execution_count": 207,
   "id": "e890587b",
   "metadata": {},
   "outputs": [
    {
     "data": {
      "text/html": [
       "<div>\n",
       "<style scoped>\n",
       "    .dataframe tbody tr th:only-of-type {\n",
       "        vertical-align: middle;\n",
       "    }\n",
       "\n",
       "    .dataframe tbody tr th {\n",
       "        vertical-align: top;\n",
       "    }\n",
       "\n",
       "    .dataframe thead th {\n",
       "        text-align: right;\n",
       "    }\n",
       "</style>\n",
       "<table border=\"1\" class=\"dataframe\">\n",
       "  <thead>\n",
       "    <tr style=\"text-align: right;\">\n",
       "      <th></th>\n",
       "      <th>student</th>\n",
       "      <th>Age</th>\n",
       "      <th>department</th>\n",
       "      <th>cgpa</th>\n",
       "      <th>admission_date</th>\n",
       "      <th>gender</th>\n",
       "      <th>year</th>\n",
       "      <th>month</th>\n",
       "      <th>day</th>\n",
       "    </tr>\n",
       "  </thead>\n",
       "  <tbody>\n",
       "    <tr>\n",
       "      <th>0</th>\n",
       "      <td>tunde</td>\n",
       "      <td>23</td>\n",
       "      <td>BCH</td>\n",
       "      <td>3.4</td>\n",
       "      <td>2020-10-05</td>\n",
       "      <td>male</td>\n",
       "      <td>2020</td>\n",
       "      <td>10</td>\n",
       "      <td>5</td>\n",
       "    </tr>\n",
       "    <tr>\n",
       "      <th>2</th>\n",
       "      <td>bola</td>\n",
       "      <td>12</td>\n",
       "      <td>LAW</td>\n",
       "      <td>4.6</td>\n",
       "      <td>2019-03-05</td>\n",
       "      <td>male</td>\n",
       "      <td>2019</td>\n",
       "      <td>3</td>\n",
       "      <td>5</td>\n",
       "    </tr>\n",
       "    <tr>\n",
       "      <th>3</th>\n",
       "      <td>kunle</td>\n",
       "      <td>40</td>\n",
       "      <td>AGRIC</td>\n",
       "      <td>3.2</td>\n",
       "      <td>2017-05-02</td>\n",
       "      <td>male</td>\n",
       "      <td>2017</td>\n",
       "      <td>5</td>\n",
       "      <td>2</td>\n",
       "    </tr>\n",
       "    <tr>\n",
       "      <th>5</th>\n",
       "      <td>ishola</td>\n",
       "      <td>54</td>\n",
       "      <td>CI</td>\n",
       "      <td>4.3</td>\n",
       "      <td>2010-10-13</td>\n",
       "      <td>male</td>\n",
       "      <td>2010</td>\n",
       "      <td>10</td>\n",
       "      <td>13</td>\n",
       "    </tr>\n",
       "    <tr>\n",
       "      <th>7</th>\n",
       "      <td>ghalia</td>\n",
       "      <td>89</td>\n",
       "      <td>ESAFE</td>\n",
       "      <td>2.8</td>\n",
       "      <td>2017-06-01</td>\n",
       "      <td>male</td>\n",
       "      <td>2017</td>\n",
       "      <td>6</td>\n",
       "      <td>1</td>\n",
       "    </tr>\n",
       "  </tbody>\n",
       "</table>\n",
       "</div>"
      ],
      "text/plain": [
       "  student Age department cgpa admission_date gender  year  month  day\n",
       "0   tunde  23        BCH  3.4     2020-10-05   male  2020     10    5\n",
       "2    bola  12        LAW  4.6     2019-03-05   male  2019      3    5\n",
       "3   kunle  40      AGRIC  3.2     2017-05-02   male  2017      5    2\n",
       "5  ishola  54         CI  4.3     2010-10-13   male  2010     10   13\n",
       "7  ghalia  89      ESAFE  2.8     2017-06-01   male  2017      6    1"
      ]
     },
     "execution_count": 207,
     "metadata": {},
     "output_type": "execute_result"
    }
   ],
   "source": [
    "df.query(\"gender== 'male'\")"
   ]
  },
  {
   "cell_type": "code",
   "execution_count": 208,
   "id": "af28bfc7",
   "metadata": {},
   "outputs": [
    {
     "data": {
      "text/html": [
       "<div>\n",
       "<style scoped>\n",
       "    .dataframe tbody tr th:only-of-type {\n",
       "        vertical-align: middle;\n",
       "    }\n",
       "\n",
       "    .dataframe tbody tr th {\n",
       "        vertical-align: top;\n",
       "    }\n",
       "\n",
       "    .dataframe thead th {\n",
       "        text-align: right;\n",
       "    }\n",
       "</style>\n",
       "<table border=\"1\" class=\"dataframe\">\n",
       "  <thead>\n",
       "    <tr style=\"text-align: right;\">\n",
       "      <th></th>\n",
       "      <th>student</th>\n",
       "      <th>Age</th>\n",
       "      <th>department</th>\n",
       "      <th>cgpa</th>\n",
       "      <th>admission_date</th>\n",
       "      <th>gender</th>\n",
       "      <th>year</th>\n",
       "      <th>month</th>\n",
       "      <th>day</th>\n",
       "    </tr>\n",
       "  </thead>\n",
       "  <tbody>\n",
       "    <tr>\n",
       "      <th>0</th>\n",
       "      <td>tunde</td>\n",
       "      <td>23</td>\n",
       "      <td>BCH</td>\n",
       "      <td>3.4</td>\n",
       "      <td>2020-10-05</td>\n",
       "      <td>male</td>\n",
       "      <td>2020</td>\n",
       "      <td>10</td>\n",
       "      <td>5</td>\n",
       "    </tr>\n",
       "    <tr>\n",
       "      <th>1</th>\n",
       "      <td>kola</td>\n",
       "      <td>44</td>\n",
       "      <td>MCB</td>\n",
       "      <td>5.0</td>\n",
       "      <td>2021-12-13</td>\n",
       "      <td>female</td>\n",
       "      <td>2021</td>\n",
       "      <td>12</td>\n",
       "      <td>13</td>\n",
       "    </tr>\n",
       "    <tr>\n",
       "      <th>2</th>\n",
       "      <td>bola</td>\n",
       "      <td>12</td>\n",
       "      <td>LAW</td>\n",
       "      <td>4.6</td>\n",
       "      <td>2019-03-05</td>\n",
       "      <td>male</td>\n",
       "      <td>2019</td>\n",
       "      <td>3</td>\n",
       "      <td>5</td>\n",
       "    </tr>\n",
       "    <tr>\n",
       "      <th>3</th>\n",
       "      <td>kunle</td>\n",
       "      <td>40</td>\n",
       "      <td>AGRIC</td>\n",
       "      <td>3.2</td>\n",
       "      <td>2017-05-02</td>\n",
       "      <td>male</td>\n",
       "      <td>2017</td>\n",
       "      <td>5</td>\n",
       "      <td>2</td>\n",
       "    </tr>\n",
       "    <tr>\n",
       "      <th>4</th>\n",
       "      <td>fatima</td>\n",
       "      <td>45</td>\n",
       "      <td>SAP+D</td>\n",
       "      <td>2.3</td>\n",
       "      <td>2017-06-09</td>\n",
       "      <td>female</td>\n",
       "      <td>2017</td>\n",
       "      <td>6</td>\n",
       "      <td>9</td>\n",
       "    </tr>\n",
       "    <tr>\n",
       "      <th>5</th>\n",
       "      <td>ishola</td>\n",
       "      <td>54</td>\n",
       "      <td>CI</td>\n",
       "      <td>4.3</td>\n",
       "      <td>2010-10-13</td>\n",
       "      <td>male</td>\n",
       "      <td>2010</td>\n",
       "      <td>10</td>\n",
       "      <td>13</td>\n",
       "    </tr>\n",
       "    <tr>\n",
       "      <th>6</th>\n",
       "      <td>hibatullah</td>\n",
       "      <td>24</td>\n",
       "      <td>EMINES</td>\n",
       "      <td>4.2</td>\n",
       "      <td>2016-06-21</td>\n",
       "      <td>female</td>\n",
       "      <td>2016</td>\n",
       "      <td>6</td>\n",
       "      <td>21</td>\n",
       "    </tr>\n",
       "    <tr>\n",
       "      <th>7</th>\n",
       "      <td>ghalia</td>\n",
       "      <td>89</td>\n",
       "      <td>ESAFE</td>\n",
       "      <td>2.8</td>\n",
       "      <td>2017-06-01</td>\n",
       "      <td>male</td>\n",
       "      <td>2017</td>\n",
       "      <td>6</td>\n",
       "      <td>1</td>\n",
       "    </tr>\n",
       "    <tr>\n",
       "      <th>8</th>\n",
       "      <td>sofia</td>\n",
       "      <td>150</td>\n",
       "      <td>GTI</td>\n",
       "      <td>3.8</td>\n",
       "      <td>2012-10-03</td>\n",
       "      <td>female</td>\n",
       "      <td>2012</td>\n",
       "      <td>10</td>\n",
       "      <td>3</td>\n",
       "    </tr>\n",
       "    <tr>\n",
       "      <th>9</th>\n",
       "      <td>akanmu</td>\n",
       "      <td>78</td>\n",
       "      <td>SCS</td>\n",
       "      <td>4.3</td>\n",
       "      <td>2015-04-02</td>\n",
       "      <td>female</td>\n",
       "      <td>2015</td>\n",
       "      <td>4</td>\n",
       "      <td>2</td>\n",
       "    </tr>\n",
       "  </tbody>\n",
       "</table>\n",
       "</div>"
      ],
      "text/plain": [
       "      student  Age department cgpa admission_date  gender  year  month  day\n",
       "0       tunde   23        BCH  3.4     2020-10-05    male  2020     10    5\n",
       "1        kola   44        MCB  5.0     2021-12-13  female  2021     12   13\n",
       "2        bola   12        LAW  4.6     2019-03-05    male  2019      3    5\n",
       "3       kunle   40      AGRIC  3.2     2017-05-02    male  2017      5    2\n",
       "4      fatima   45      SAP+D  2.3     2017-06-09  female  2017      6    9\n",
       "5      ishola   54         CI  4.3     2010-10-13    male  2010     10   13\n",
       "6  hibatullah   24     EMINES  4.2     2016-06-21  female  2016      6   21\n",
       "7      ghalia   89      ESAFE  2.8     2017-06-01    male  2017      6    1\n",
       "8       sofia  150        GTI  3.8     2012-10-03  female  2012     10    3\n",
       "9      akanmu   78        SCS  4.3     2015-04-02  female  2015      4    2"
      ]
     },
     "execution_count": 208,
     "metadata": {},
     "output_type": "execute_result"
    }
   ],
   "source": [
    "df"
   ]
  },
  {
   "cell_type": "code",
   "execution_count": 209,
   "id": "ecb35da2",
   "metadata": {},
   "outputs": [],
   "source": [
    " #Find the mean,max, min, sum CGPA"
   ]
  },
  {
   "cell_type": "code",
   "execution_count": 210,
   "id": "d1af5719",
   "metadata": {},
   "outputs": [
    {
     "data": {
      "text/plain": [
       "'5.0'"
      ]
     },
     "execution_count": 210,
     "metadata": {},
     "output_type": "execute_result"
    }
   ],
   "source": [
    "df['cgpa'].max()"
   ]
  },
  {
   "cell_type": "code",
   "execution_count": 211,
   "id": "e1e9e34d",
   "metadata": {},
   "outputs": [
    {
     "data": {
      "text/plain": [
       "'2.3'"
      ]
     },
     "execution_count": 211,
     "metadata": {},
     "output_type": "execute_result"
    }
   ],
   "source": [
    "df['cgpa'].min()"
   ]
  },
  {
   "cell_type": "code",
   "execution_count": 212,
   "id": "a4db4dce",
   "metadata": {},
   "outputs": [
    {
     "data": {
      "text/plain": [
       "<bound method NDFrame._add_numeric_operations.<locals>.sum of 0    3.4\n",
       "1    5.0\n",
       "2    4.6\n",
       "3    3.2\n",
       "4    2.3\n",
       "5    4.3\n",
       "6    4.2\n",
       "7    2.8\n",
       "8    3.8\n",
       "9    4.3\n",
       "Name: cgpa, dtype: object>"
      ]
     },
     "execution_count": 212,
     "metadata": {},
     "output_type": "execute_result"
    }
   ],
   "source": [
    "df['cgpa'].sum"
   ]
  },
  {
   "cell_type": "code",
   "execution_count": 213,
   "id": "daa3dd53",
   "metadata": {},
   "outputs": [
    {
     "data": {
      "text/plain": [
       "<bound method NDFrame._add_numeric_operations.<locals>.mean of 0    3.4\n",
       "1    5.0\n",
       "2    4.6\n",
       "3    3.2\n",
       "4    2.3\n",
       "5    4.3\n",
       "6    4.2\n",
       "7    2.8\n",
       "8    3.8\n",
       "9    4.3\n",
       "Name: cgpa, dtype: object>"
      ]
     },
     "execution_count": 213,
     "metadata": {},
     "output_type": "execute_result"
    }
   ],
   "source": [
    "df['cgpa'].mean"
   ]
  },
  {
   "cell_type": "code",
   "execution_count": 214,
   "id": "882d718f",
   "metadata": {},
   "outputs": [],
   "source": [
    "#Check your df to be sure that you have all the rows and columns"
   ]
  },
  {
   "cell_type": "code",
   "execution_count": 215,
   "id": "68b8092c",
   "metadata": {},
   "outputs": [
    {
     "data": {
      "text/plain": [
       "(10, 9)"
      ]
     },
     "execution_count": 215,
     "metadata": {},
     "output_type": "execute_result"
    }
   ],
   "source": [
    "df.shape"
   ]
  },
  {
   "cell_type": "code",
   "execution_count": 216,
   "id": "ae671373",
   "metadata": {},
   "outputs": [],
   "source": [
    "# write your data frame to a csv file"
   ]
  },
  {
   "cell_type": "code",
   "execution_count": 217,
   "id": "663aa298",
   "metadata": {},
   "outputs": [],
   "source": [
    "df.to_csv('project1.csv', index=False)"
   ]
  },
  {
   "cell_type": "code",
   "execution_count": 218,
   "id": "251441cb",
   "metadata": {},
   "outputs": [
    {
     "data": {
      "text/html": [
       "<div>\n",
       "<style scoped>\n",
       "    .dataframe tbody tr th:only-of-type {\n",
       "        vertical-align: middle;\n",
       "    }\n",
       "\n",
       "    .dataframe tbody tr th {\n",
       "        vertical-align: top;\n",
       "    }\n",
       "\n",
       "    .dataframe thead th {\n",
       "        text-align: right;\n",
       "    }\n",
       "</style>\n",
       "<table border=\"1\" class=\"dataframe\">\n",
       "  <thead>\n",
       "    <tr style=\"text-align: right;\">\n",
       "      <th></th>\n",
       "      <th>student</th>\n",
       "      <th>Age</th>\n",
       "      <th>department</th>\n",
       "      <th>cgpa</th>\n",
       "      <th>admission_date</th>\n",
       "      <th>gender</th>\n",
       "      <th>year</th>\n",
       "      <th>month</th>\n",
       "      <th>day</th>\n",
       "    </tr>\n",
       "  </thead>\n",
       "  <tbody>\n",
       "    <tr>\n",
       "      <th>0</th>\n",
       "      <td>tunde</td>\n",
       "      <td>23</td>\n",
       "      <td>BCH</td>\n",
       "      <td>3.4</td>\n",
       "      <td>2020-10-05</td>\n",
       "      <td>male</td>\n",
       "      <td>2020</td>\n",
       "      <td>10</td>\n",
       "      <td>5</td>\n",
       "    </tr>\n",
       "    <tr>\n",
       "      <th>1</th>\n",
       "      <td>kola</td>\n",
       "      <td>44</td>\n",
       "      <td>MCB</td>\n",
       "      <td>5.0</td>\n",
       "      <td>2021-12-13</td>\n",
       "      <td>female</td>\n",
       "      <td>2021</td>\n",
       "      <td>12</td>\n",
       "      <td>13</td>\n",
       "    </tr>\n",
       "    <tr>\n",
       "      <th>2</th>\n",
       "      <td>bola</td>\n",
       "      <td>12</td>\n",
       "      <td>LAW</td>\n",
       "      <td>4.6</td>\n",
       "      <td>2019-03-05</td>\n",
       "      <td>male</td>\n",
       "      <td>2019</td>\n",
       "      <td>3</td>\n",
       "      <td>5</td>\n",
       "    </tr>\n",
       "    <tr>\n",
       "      <th>3</th>\n",
       "      <td>kunle</td>\n",
       "      <td>40</td>\n",
       "      <td>AGRIC</td>\n",
       "      <td>3.2</td>\n",
       "      <td>2017-05-02</td>\n",
       "      <td>male</td>\n",
       "      <td>2017</td>\n",
       "      <td>5</td>\n",
       "      <td>2</td>\n",
       "    </tr>\n",
       "    <tr>\n",
       "      <th>4</th>\n",
       "      <td>fatima</td>\n",
       "      <td>45</td>\n",
       "      <td>SAP+D</td>\n",
       "      <td>2.3</td>\n",
       "      <td>2017-06-09</td>\n",
       "      <td>female</td>\n",
       "      <td>2017</td>\n",
       "      <td>6</td>\n",
       "      <td>9</td>\n",
       "    </tr>\n",
       "    <tr>\n",
       "      <th>5</th>\n",
       "      <td>ishola</td>\n",
       "      <td>54</td>\n",
       "      <td>CI</td>\n",
       "      <td>4.3</td>\n",
       "      <td>2010-10-13</td>\n",
       "      <td>male</td>\n",
       "      <td>2010</td>\n",
       "      <td>10</td>\n",
       "      <td>13</td>\n",
       "    </tr>\n",
       "    <tr>\n",
       "      <th>6</th>\n",
       "      <td>hibatullah</td>\n",
       "      <td>24</td>\n",
       "      <td>EMINES</td>\n",
       "      <td>4.2</td>\n",
       "      <td>2016-06-21</td>\n",
       "      <td>female</td>\n",
       "      <td>2016</td>\n",
       "      <td>6</td>\n",
       "      <td>21</td>\n",
       "    </tr>\n",
       "    <tr>\n",
       "      <th>7</th>\n",
       "      <td>ghalia</td>\n",
       "      <td>89</td>\n",
       "      <td>ESAFE</td>\n",
       "      <td>2.8</td>\n",
       "      <td>2017-06-01</td>\n",
       "      <td>male</td>\n",
       "      <td>2017</td>\n",
       "      <td>6</td>\n",
       "      <td>1</td>\n",
       "    </tr>\n",
       "    <tr>\n",
       "      <th>8</th>\n",
       "      <td>sofia</td>\n",
       "      <td>150</td>\n",
       "      <td>GTI</td>\n",
       "      <td>3.8</td>\n",
       "      <td>2012-10-03</td>\n",
       "      <td>female</td>\n",
       "      <td>2012</td>\n",
       "      <td>10</td>\n",
       "      <td>3</td>\n",
       "    </tr>\n",
       "    <tr>\n",
       "      <th>9</th>\n",
       "      <td>akanmu</td>\n",
       "      <td>78</td>\n",
       "      <td>SCS</td>\n",
       "      <td>4.3</td>\n",
       "      <td>2015-04-02</td>\n",
       "      <td>female</td>\n",
       "      <td>2015</td>\n",
       "      <td>4</td>\n",
       "      <td>2</td>\n",
       "    </tr>\n",
       "  </tbody>\n",
       "</table>\n",
       "</div>"
      ],
      "text/plain": [
       "      student  Age department  cgpa admission_date  gender  year  month  day\n",
       "0       tunde   23        BCH   3.4     2020-10-05    male  2020     10    5\n",
       "1        kola   44        MCB   5.0     2021-12-13  female  2021     12   13\n",
       "2        bola   12        LAW   4.6     2019-03-05    male  2019      3    5\n",
       "3       kunle   40      AGRIC   3.2     2017-05-02    male  2017      5    2\n",
       "4      fatima   45      SAP+D   2.3     2017-06-09  female  2017      6    9\n",
       "5      ishola   54         CI   4.3     2010-10-13    male  2010     10   13\n",
       "6  hibatullah   24     EMINES   4.2     2016-06-21  female  2016      6   21\n",
       "7      ghalia   89      ESAFE   2.8     2017-06-01    male  2017      6    1\n",
       "8       sofia  150        GTI   3.8     2012-10-03  female  2012     10    3\n",
       "9      akanmu   78        SCS   4.3     2015-04-02  female  2015      4    2"
      ]
     },
     "execution_count": 218,
     "metadata": {},
     "output_type": "execute_result"
    }
   ],
   "source": [
    "pd.read_csv('project1.csv')"
   ]
  },
  {
   "cell_type": "code",
   "execution_count": null,
   "id": "c8561403",
   "metadata": {},
   "outputs": [],
   "source": []
  }
 ],
 "metadata": {
  "kernelspec": {
   "display_name": "Python 3 (ipykernel)",
   "language": "python",
   "name": "python3"
  },
  "language_info": {
   "codemirror_mode": {
    "name": "ipython",
    "version": 3
   },
   "file_extension": ".py",
   "mimetype": "text/x-python",
   "name": "python",
   "nbconvert_exporter": "python",
   "pygments_lexer": "ipython3",
   "version": "3.9.7"
  }
 },
 "nbformat": 4,
 "nbformat_minor": 5
}
